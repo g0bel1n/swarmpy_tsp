{
 "cells": [
  {
   "cell_type": "markdown",
   "metadata": {},
   "source": [
    "# Advanced Swarmpy\n",
    "\n",
    "<a href=\"https://www.python.org/downloads/release/python-3100/\" \n",
    "target=\"_blank\"><img src=\"https://img.shields.io/badge/python-3.10-blue.svg\" alt=\"Python Version\" /></a>\n",
    "\n",
    "___\n",
    "\n",
    "Combining pipeline, masks and ant parameter randomization\n",
    "\n",
    "The goal here is to warmstart the pheromone trails by applying ACO to a partition of the graph. Therefore we use intermediate pipelines with mask and eventually apply iterations on the entire problem"
   ]
  },
  {
   "cell_type": "code",
   "execution_count": 1,
   "metadata": {},
   "outputs": [
    {
     "name": "stderr",
     "output_type": "stream",
     "text": [
      "[SwarmPy] NumExpr defaulting to 8 threads.\n"
     ]
    }
   ],
   "source": [
    "import os \n",
    "import numpy as np\n",
    "import matplotlib.pyplot as plt\n",
    "os.chdir('..')\n",
    "from copy import deepcopy\n",
    "\n",
    "from swarmpy_tsp import *\n",
    "import plotly.express as px\n"
   ]
  },
  {
   "cell_type": "code",
   "execution_count": 2,
   "metadata": {},
   "outputs": [],
   "source": [
    "G1, opt_score = Antcoder('test_set/berlin52')"
   ]
  },
  {
   "cell_type": "code",
   "execution_count": 3,
   "metadata": {},
   "outputs": [],
   "source": [
    "mask = np.ones_like(G1['e'], dtype=bool)\n",
    "mid = int(G1['e'].shape[0]/2)\n",
    "mask[:mid, :mid] = 0"
   ]
  },
  {
   "cell_type": "code",
   "execution_count": 4,
   "metadata": {},
   "outputs": [
    {
     "name": "stderr",
     "output_type": "stream",
     "text": [
      "SwarmPy |Step| Score : 6206.381105921658:  80%|████████░░| 8/10 [00:01<00:00,  6.28it/s]\n",
      "SwarmPy:   0%|░░░░░░░░░░| 0/1 [00:01<?, ?it/s]\n"
     ]
    },
    {
     "ename": "KeyboardInterrupt",
     "evalue": "",
     "output_type": "error",
     "traceback": [
      "\u001b[0;31m---------------------------------------------------------------------------\u001b[0m",
      "\u001b[0;31mKeyboardInterrupt\u001b[0m                         Traceback (most recent call last)",
      "\u001b[1;32m/Users/g0bel1n/swarmpy/notebooks/advanced_swarmpy.ipynb Cell 5'\u001b[0m in \u001b[0;36m<cell line: 2>\u001b[0;34m()\u001b[0m\n\u001b[1;32m     <a href='vscode-notebook-cell:/Users/g0bel1n/swarmpy/notebooks/advanced_swarmpy.ipynb#ch0000004?line=21'>22</a>\u001b[0m aco_final \u001b[39m=\u001b[39m ACO_Pipeline(\n\u001b[1;32m     <a href='vscode-notebook-cell:/Users/g0bel1n/swarmpy/notebooks/advanced_swarmpy.ipynb#ch0000004?line=22'>23</a>\u001b[0m     [\n\u001b[1;32m     <a href='vscode-notebook-cell:/Users/g0bel1n/swarmpy/notebooks/advanced_swarmpy.ipynb#ch0000004?line=23'>24</a>\u001b[0m         (\u001b[39m\"\u001b[39m\u001b[39mPlanner\u001b[39m\u001b[39m\"\u001b[39m, RandomizedPlanner(alpha_bounds\u001b[39m=\u001b[39m[\u001b[39m1.0\u001b[39m,\u001b[39m1.0\u001b[39m], beta_bounds\u001b[39m=\u001b[39m[\u001b[39m1.0\u001b[39m,\u001b[39m6.0\u001b[39m])),\n\u001b[0;32m   (...)\u001b[0m\n\u001b[1;32m     <a href='vscode-notebook-cell:/Users/g0bel1n/swarmpy/notebooks/advanced_swarmpy.ipynb#ch0000004?line=28'>29</a>\u001b[0m ], iter_max\u001b[39m=\u001b[39m\u001b[39m30\u001b[39m, last_step\u001b[39m=\u001b[39m\u001b[39mTrue\u001b[39;00m, verbose\u001b[39m=\u001b[39m\u001b[39m30\u001b[39m\n\u001b[1;32m     <a href='vscode-notebook-cell:/Users/g0bel1n/swarmpy/notebooks/advanced_swarmpy.ipynb#ch0000004?line=29'>30</a>\u001b[0m )\n\u001b[1;32m     <a href='vscode-notebook-cell:/Users/g0bel1n/swarmpy/notebooks/advanced_swarmpy.ipynb#ch0000004?line=31'>32</a>\u001b[0m optimus_prime_pipeline \u001b[39m=\u001b[39m ACO_Pipeline([(\u001b[39m'\u001b[39m\u001b[39ma\u001b[39m\u001b[39m'\u001b[39m, aco_with_Daemon1), (\u001b[39m'\u001b[39m\u001b[39mb\u001b[39m\u001b[39m'\u001b[39m,aco_with_Daemon2), (\u001b[39m'\u001b[39m\u001b[39md\u001b[39m\u001b[39m'\u001b[39m,aco_final)], iter_max\u001b[39m=\u001b[39m\u001b[39m1\u001b[39m, metapipeline\u001b[39m=\u001b[39m\u001b[39mTrue\u001b[39;00m, verbose\u001b[39m=\u001b[39m\u001b[39m30\u001b[39m)\n\u001b[0;32m---> <a href='vscode-notebook-cell:/Users/g0bel1n/swarmpy/notebooks/advanced_swarmpy.ipynb#ch0000004?line=33'>34</a>\u001b[0m solutions_w_daemon \u001b[39m=\u001b[39m optimus_prime_pipeline\u001b[39m.\u001b[39;49mrun(G\u001b[39m=\u001b[39;49mG,)\n\u001b[1;32m     <a href='vscode-notebook-cell:/Users/g0bel1n/swarmpy/notebooks/advanced_swarmpy.ipynb#ch0000004?line=34'>35</a>\u001b[0m scores_w_daemon \u001b[39m=\u001b[39m np\u001b[39m.\u001b[39marray([el[\u001b[39m1\u001b[39m] \u001b[39mfor\u001b[39;00m el \u001b[39min\u001b[39;00m solutions_w_daemon[\u001b[39m'\u001b[39m\u001b[39msolutions\u001b[39m\u001b[39m'\u001b[39m]]) \u001b[39m-\u001b[39m opt_score\n\u001b[1;32m     <a href='vscode-notebook-cell:/Users/g0bel1n/swarmpy/notebooks/advanced_swarmpy.ipynb#ch0000004?line=36'>37</a>\u001b[0m scores\u001b[39m.\u001b[39mappend(scores_w_daemon)\n",
      "File \u001b[0;32m~/swarmpy/swarmpy_tsp/aco_pipeline.py:70\u001b[0m, in \u001b[0;36mACO_Pipeline.run\u001b[0;34m(self, G)\u001b[0m\n\u001b[1;32m     68\u001b[0m \u001b[39mfor\u001b[39;00m i \u001b[39min\u001b[39;00m pbar:\n\u001b[1;32m     69\u001b[0m     run_params[\u001b[39m\"\u001b[39m\u001b[39mnb_iter\u001b[39m\u001b[39m\"\u001b[39m] \u001b[39m=\u001b[39m i\n\u001b[0;32m---> 70\u001b[0m     solutions \u001b[39m=\u001b[39m \u001b[39mself\u001b[39;49m\u001b[39m.\u001b[39;49miter(run_params\u001b[39m=\u001b[39;49mrun_params)\n\u001b[1;32m     71\u001b[0m     solutions_bank\u001b[39m.\u001b[39mappend(solutions[\u001b[39m0\u001b[39m])\n\u001b[1;32m     72\u001b[0m     pbar\u001b[39m.\u001b[39mset_description(\n\u001b[1;32m     73\u001b[0m         \u001b[39mf\u001b[39m\u001b[39m'\u001b[39m\u001b[39mSwarmPy |\u001b[39m\u001b[39m{\u001b[39;00m\u001b[39m\"\u001b[39m\u001b[39mStep|\u001b[39m\u001b[39m\"\u001b[39m \u001b[39mif\u001b[39;00m \u001b[39mself\u001b[39m\u001b[39m.\u001b[39mas_step   \u001b[39melse\u001b[39;00m \u001b[39m\"\u001b[39m\u001b[39mFinal Step|\u001b[39m\u001b[39m\"\u001b[39m \u001b[39mif\u001b[39;00m \u001b[39mself\u001b[39m\u001b[39m.\u001b[39mlast_step \u001b[39melse\u001b[39;00m \u001b[39m\"\u001b[39m\u001b[39m\"\u001b[39m\u001b[39m}\u001b[39;00m\u001b[39m Score : \u001b[39m\u001b[39m{\u001b[39;00msolutions[\u001b[39m-\u001b[39m\u001b[39m1\u001b[39m][\u001b[39m1\u001b[39m] \u001b[39mif\u001b[39;00m \u001b[39mself\u001b[39m\u001b[39m.\u001b[39mmetapipeline \u001b[39melse\u001b[39;00m solutions[\u001b[39m0\u001b[39m][\u001b[39m1\u001b[39m]\u001b[39m}\u001b[39;00m\u001b[39m'\u001b[39m\n\u001b[1;32m     74\u001b[0m     )\n",
      "File \u001b[0;32m~/swarmpy/swarmpy_tsp/aco_pipeline.py:43\u001b[0m, in \u001b[0;36mACO_Pipeline.iter\u001b[0;34m(self, run_params)\u001b[0m\n\u001b[1;32m     39\u001b[0m \u001b[39mfor\u001b[39;00m _, step \u001b[39min\u001b[39;00m \u001b[39mself\u001b[39m\u001b[39m.\u001b[39msteps:\n\u001b[1;32m     40\u001b[0m     step_args \u001b[39m=\u001b[39m {\n\u001b[1;32m     41\u001b[0m         el: run_params[el] \u001b[39mfor\u001b[39;00m el \u001b[39min\u001b[39;00m step\u001b[39m.\u001b[39mget_run_args() \u001b[39mif\u001b[39;00m el \u001b[39m!=\u001b[39m \u001b[39m\"\u001b[39m\u001b[39mself\u001b[39m\u001b[39m\"\u001b[39m\n\u001b[1;32m     42\u001b[0m     }\n\u001b[0;32m---> 43\u001b[0m     _out \u001b[39m=\u001b[39m step\u001b[39m.\u001b[39;49mrun(\u001b[39m*\u001b[39;49m\u001b[39m*\u001b[39;49mstep_args)\n\u001b[1;32m     45\u001b[0m     \u001b[39mfor\u001b[39;00m k, v \u001b[39min\u001b[39;00m _out\u001b[39m.\u001b[39mitems():\n\u001b[1;32m     46\u001b[0m         run_params[k] \u001b[39m=\u001b[39m v\n",
      "File \u001b[0;32m~/swarmpy/swarmpy_tsp/aco_pipeline.py:70\u001b[0m, in \u001b[0;36mACO_Pipeline.run\u001b[0;34m(self, G)\u001b[0m\n\u001b[1;32m     68\u001b[0m \u001b[39mfor\u001b[39;00m i \u001b[39min\u001b[39;00m pbar:\n\u001b[1;32m     69\u001b[0m     run_params[\u001b[39m\"\u001b[39m\u001b[39mnb_iter\u001b[39m\u001b[39m\"\u001b[39m] \u001b[39m=\u001b[39m i\n\u001b[0;32m---> 70\u001b[0m     solutions \u001b[39m=\u001b[39m \u001b[39mself\u001b[39;49m\u001b[39m.\u001b[39;49miter(run_params\u001b[39m=\u001b[39;49mrun_params)\n\u001b[1;32m     71\u001b[0m     solutions_bank\u001b[39m.\u001b[39mappend(solutions[\u001b[39m0\u001b[39m])\n\u001b[1;32m     72\u001b[0m     pbar\u001b[39m.\u001b[39mset_description(\n\u001b[1;32m     73\u001b[0m         \u001b[39mf\u001b[39m\u001b[39m'\u001b[39m\u001b[39mSwarmPy |\u001b[39m\u001b[39m{\u001b[39;00m\u001b[39m\"\u001b[39m\u001b[39mStep|\u001b[39m\u001b[39m\"\u001b[39m \u001b[39mif\u001b[39;00m \u001b[39mself\u001b[39m\u001b[39m.\u001b[39mas_step   \u001b[39melse\u001b[39;00m \u001b[39m\"\u001b[39m\u001b[39mFinal Step|\u001b[39m\u001b[39m\"\u001b[39m \u001b[39mif\u001b[39;00m \u001b[39mself\u001b[39m\u001b[39m.\u001b[39mlast_step \u001b[39melse\u001b[39;00m \u001b[39m\"\u001b[39m\u001b[39m\"\u001b[39m\u001b[39m}\u001b[39;00m\u001b[39m Score : \u001b[39m\u001b[39m{\u001b[39;00msolutions[\u001b[39m-\u001b[39m\u001b[39m1\u001b[39m][\u001b[39m1\u001b[39m] \u001b[39mif\u001b[39;00m \u001b[39mself\u001b[39m\u001b[39m.\u001b[39mmetapipeline \u001b[39melse\u001b[39;00m solutions[\u001b[39m0\u001b[39m][\u001b[39m1\u001b[39m]\u001b[39m}\u001b[39;00m\u001b[39m'\u001b[39m\n\u001b[1;32m     74\u001b[0m     )\n",
      "File \u001b[0;32m~/swarmpy/swarmpy_tsp/aco_pipeline.py:43\u001b[0m, in \u001b[0;36mACO_Pipeline.iter\u001b[0;34m(self, run_params)\u001b[0m\n\u001b[1;32m     39\u001b[0m \u001b[39mfor\u001b[39;00m _, step \u001b[39min\u001b[39;00m \u001b[39mself\u001b[39m\u001b[39m.\u001b[39msteps:\n\u001b[1;32m     40\u001b[0m     step_args \u001b[39m=\u001b[39m {\n\u001b[1;32m     41\u001b[0m         el: run_params[el] \u001b[39mfor\u001b[39;00m el \u001b[39min\u001b[39;00m step\u001b[39m.\u001b[39mget_run_args() \u001b[39mif\u001b[39;00m el \u001b[39m!=\u001b[39m \u001b[39m\"\u001b[39m\u001b[39mself\u001b[39m\u001b[39m\"\u001b[39m\n\u001b[1;32m     42\u001b[0m     }\n\u001b[0;32m---> 43\u001b[0m     _out \u001b[39m=\u001b[39m step\u001b[39m.\u001b[39;49mrun(\u001b[39m*\u001b[39;49m\u001b[39m*\u001b[39;49mstep_args)\n\u001b[1;32m     45\u001b[0m     \u001b[39mfor\u001b[39;00m k, v \u001b[39min\u001b[39;00m _out\u001b[39m.\u001b[39mitems():\n\u001b[1;32m     46\u001b[0m         run_params[k] \u001b[39m=\u001b[39m v\n",
      "File \u001b[0;32m~/swarmpy/swarmpy_tsp/solution_constructor.py:70\u001b[0m, in \u001b[0;36mSolutionConstructor.run\u001b[0;34m(self, G, ant_params, solutions)\u001b[0m\n\u001b[1;32m     67\u001b[0m     threads[\u001b[39m-\u001b[39m\u001b[39m1\u001b[39m]\u001b[39m.\u001b[39mstart()\n\u001b[1;32m     69\u001b[0m \u001b[39mfor\u001b[39;00m thread \u001b[39min\u001b[39;00m threads:\n\u001b[0;32m---> 70\u001b[0m     thread\u001b[39m.\u001b[39;49mjoin()\n\u001b[1;32m     72\u001b[0m solutions\u001b[39m.\u001b[39msort(key\u001b[39m=\u001b[39m\u001b[39mlambda\u001b[39;00m x: x[\u001b[39m1\u001b[39m])\n\u001b[1;32m     74\u001b[0m \u001b[39mreturn\u001b[39;00m {\u001b[39m\"\u001b[39m\u001b[39msolutions\u001b[39m\u001b[39m\"\u001b[39m: solutions}\n",
      "File \u001b[0;32m~/opt/anaconda3/envs/swarmpy-env/lib/python3.10/threading.py:1089\u001b[0m, in \u001b[0;36mThread.join\u001b[0;34m(self, timeout)\u001b[0m\n\u001b[1;32m   1086\u001b[0m     \u001b[39mraise\u001b[39;00m \u001b[39mRuntimeError\u001b[39;00m(\u001b[39m\"\u001b[39m\u001b[39mcannot join current thread\u001b[39m\u001b[39m\"\u001b[39m)\n\u001b[1;32m   1088\u001b[0m \u001b[39mif\u001b[39;00m timeout \u001b[39mis\u001b[39;00m \u001b[39mNone\u001b[39;00m:\n\u001b[0;32m-> 1089\u001b[0m     \u001b[39mself\u001b[39;49m\u001b[39m.\u001b[39;49m_wait_for_tstate_lock()\n\u001b[1;32m   1090\u001b[0m \u001b[39melse\u001b[39;00m:\n\u001b[1;32m   1091\u001b[0m     \u001b[39m# the behavior of a negative timeout isn't documented, but\u001b[39;00m\n\u001b[1;32m   1092\u001b[0m     \u001b[39m# historically .join(timeout=x) for x<0 has acted as if timeout=0\u001b[39;00m\n\u001b[1;32m   1093\u001b[0m     \u001b[39mself\u001b[39m\u001b[39m.\u001b[39m_wait_for_tstate_lock(timeout\u001b[39m=\u001b[39m\u001b[39mmax\u001b[39m(timeout, \u001b[39m0\u001b[39m))\n",
      "File \u001b[0;32m~/opt/anaconda3/envs/swarmpy-env/lib/python3.10/threading.py:1109\u001b[0m, in \u001b[0;36mThread._wait_for_tstate_lock\u001b[0;34m(self, block, timeout)\u001b[0m\n\u001b[1;32m   1106\u001b[0m     \u001b[39mreturn\u001b[39;00m\n\u001b[1;32m   1108\u001b[0m \u001b[39mtry\u001b[39;00m:\n\u001b[0;32m-> 1109\u001b[0m     \u001b[39mif\u001b[39;00m lock\u001b[39m.\u001b[39;49macquire(block, timeout):\n\u001b[1;32m   1110\u001b[0m         lock\u001b[39m.\u001b[39mrelease()\n\u001b[1;32m   1111\u001b[0m         \u001b[39mself\u001b[39m\u001b[39m.\u001b[39m_stop()\n",
      "\u001b[0;31mKeyboardInterrupt\u001b[0m: "
     ]
    }
   ],
   "source": [
    "scores=[]\n",
    "for _ in range(10):\n",
    "    G = deepcopy(G1)\n",
    "\n",
    "    aco_with_Daemon1 = ACO_Pipeline(\n",
    "        [\n",
    "            (\"Planner\", RandomizedPlanner(alpha_bounds=[1.0,1.0], beta_bounds=[1.0,6.0], ant_params={'mask':mask})),\n",
    "            (\"Sol\", SolutionConstructor()),\n",
    "            (\"Updater\", BestTourPheromonesUpdater(bounds=[0.4,.6])),\n",
    "    ], iter_max=10, as_step=True, verbose=30\n",
    "    )\n",
    "\n",
    "    aco_with_Daemon2 = ACO_Pipeline(\n",
    "        [\n",
    "            (\"Planner\", RandomizedPlanner(alpha_bounds=[1.0,1.0], beta_bounds=[1.0,6.0], ant_params={'mask':~mask})),\n",
    "            (\"Sol\", SolutionConstructor()),\n",
    "            (\"Updater\", BestTourPheromonesUpdater(bounds=[0.4,.6]))\n",
    "            \n",
    "    ], iter_max=10, as_step=True, verbose=30\n",
    "    )\n",
    "\n",
    "    aco_final = ACO_Pipeline(\n",
    "        [\n",
    "            (\"Planner\", RandomizedPlanner(alpha_bounds=[1.0,1.0], beta_bounds=[1.0,6.0])),\n",
    "            (\"Sol\", SolutionConstructor()),\n",
    "            (\"DA\", DaemonActions()),\n",
    "            (\"Updater\", BestTourPheromonesUpdater(bounds=[0.1,1])),\n",
    "            \n",
    "    ], iter_max=30, last_step=True, verbose=30\n",
    "    )\n",
    "\n",
    "    optimus_prime_pipeline = ACO_Pipeline([('a', aco_with_Daemon1), ('b',aco_with_Daemon2), ('d',aco_final)], iter_max=1, metapipeline=True, verbose=30)\n",
    "\n",
    "    solutions_w_daemon = optimus_prime_pipeline.run(G=G,)\n",
    "    scores_w_daemon = np.array([el[1] for el in solutions_w_daemon['solutions']]) - opt_score\n",
    "\n",
    "    scores.append(scores_w_daemon)"
   ]
  },
  {
   "cell_type": "code",
   "execution_count": null,
   "metadata": {},
   "outputs": [
    {
     "name": "stderr",
     "output_type": "stream",
     "text": [
      "SwarmPy | Score : 7658.958320375771: 100%|██████████| 50/50 [00:10<00:00,  4.57it/s]\n",
      "SwarmPy | Score : 7544.36590190409: 100%|██████████| 50/50 [00:10<00:00,  4.62it/s] \n",
      "SwarmPy | Score : 7658.958320375772: 100%|██████████| 50/50 [00:11<00:00,  4.44it/s]\n",
      "SwarmPy | Score : 7679.152496997891: 100%|██████████| 50/50 [00:11<00:00,  4.35it/s] \n",
      "SwarmPy | Score : 7544.365901904089: 100%|██████████| 50/50 [00:11<00:00,  4.52it/s]\n"
     ]
    }
   ],
   "source": [
    "simple_score = []\n",
    "for _ in range(5):\n",
    "    G = deepcopy(G1)\n",
    "    aco_final = ACO_Pipeline(\n",
    "        [\n",
    "            (\"Planner\", Planner({'alpha' : 1., 'beta' : 6., 'q'  : 0})),\n",
    "            (\"Sol\", SolutionConstructor()),\n",
    "            (\"DA\", DaemonActions()),\n",
    "            (\"Updater\", BestTourPheromonesUpdater(bounds=[0.1,1.])),\n",
    "            \n",
    "    ], iter_max=50, verbose=50\n",
    "    )\n",
    "    scores_simple = aco_final.run(G)\n",
    "    scores_simple = np.array([el[1] for el in scores_simple['solutions']]) - opt_score\n",
    "\n",
    "    simple_score.append(scores_simple[20:])\n",
    "\n",
    "    "
   ]
  },
  {
   "cell_type": "code",
   "execution_count": null,
   "metadata": {},
   "outputs": [],
   "source": [
    "import pandas as pd"
   ]
  },
  {
   "cell_type": "code",
   "execution_count": null,
   "metadata": {},
   "outputs": [
    {
     "data": {
      "application/vnd.plotly.v1+json": {
       "config": {
        "plotlyServerURL": "https://plot.ly"
       },
       "data": [
        {
         "hovertemplate": "variable=v1<br>x=%{x}<br>value=%{y}<extra></extra>",
         "legendgroup": "v1",
         "marker": {
          "color": "#636efa",
          "symbol": "circle"
         },
         "mode": "markers",
         "name": "v1",
         "orientation": "v",
         "showlegend": true,
         "type": "scatter",
         "x": [
          0,
          1,
          2,
          3,
          4,
          5,
          6,
          7,
          8,
          9,
          10,
          11,
          12,
          13,
          14,
          15,
          16,
          17,
          18,
          19,
          20,
          21,
          22,
          23,
          24,
          25,
          26,
          27,
          28,
          29
         ],
         "xaxis": "x",
         "y": [
          1386.0661949746159,
          904.2305816430832,
          762.1443765624648,
          738.1516364071255,
          708.8536035986015,
          653.9198943500809,
          621.5608339619613,
          621.5608339619613,
          602.6603252049293,
          574.438681006532,
          534.8357658567695,
          534.8357658567695,
          531.9297735396037,
          508.9696466791178,
          496.0810150551388,
          451.1314556904455,
          431.32694664512917,
          406.54728059960837,
          398.4627058711699,
          398.4627058711699,
          370.44374744161433,
          338.96417408536837,
          338.96417408536837,
          338.96417408536837,
          338.96417408536837,
          338.96417408536837,
          338.96417408536837,
          338.96417408536837,
          314.02958851439354,
          283.3756715169085
         ],
         "yaxis": "y"
        },
        {
         "hovertemplate": "variable=v2<br>x=%{x}<br>value=%{y}<extra></extra>",
         "legendgroup": "v2",
         "marker": {
          "color": "#EF553B",
          "symbol": "circle"
         },
         "mode": "markers",
         "name": "v2",
         "orientation": "v",
         "showlegend": true,
         "type": "scatter",
         "x": [
          0,
          1,
          2,
          3,
          4,
          5,
          6,
          7,
          8,
          9,
          10,
          11,
          12,
          13,
          14,
          15,
          16,
          17,
          18,
          19,
          20,
          21,
          22,
          23,
          24,
          25,
          26,
          27,
          28,
          29
         ],
         "xaxis": "x",
         "y": [
          206.40962293843313,
          195.2669437414048,
          195.2669437414048,
          194.25641834720355,
          194.25641834720355,
          194.25641834720355,
          194.25641834720355,
          194.25641834720335,
          194.25641834720335,
          186.9979345718053,
          167.92962096905595,
          167.92962096905595,
          167.92962096905595,
          165.79735359271763,
          165.79735359271763,
          165.79735359271763,
          165.79735359271763,
          165.79735359271763,
          165.79735359271763,
          103.42882143792667,
          103.42882143792649,
          103.42882143792649,
          72.79428640743572,
          72.79428640743572,
          72.79428640743572,
          72.79428640743572,
          72.79428640743554,
          72.79428640743554,
          72.79428640743554,
          72.79428640743554
         ],
         "yaxis": "y"
        }
       ],
       "layout": {
        "legend": {
         "title": {
          "text": "variable"
         },
         "tracegroupgap": 0
        },
        "margin": {
         "t": 60
        },
        "template": {
         "data": {
          "bar": [
           {
            "error_x": {
             "color": "#2a3f5f"
            },
            "error_y": {
             "color": "#2a3f5f"
            },
            "marker": {
             "line": {
              "color": "#E5ECF6",
              "width": 0.5
             },
             "pattern": {
              "fillmode": "overlay",
              "size": 10,
              "solidity": 0.2
             }
            },
            "type": "bar"
           }
          ],
          "barpolar": [
           {
            "marker": {
             "line": {
              "color": "#E5ECF6",
              "width": 0.5
             },
             "pattern": {
              "fillmode": "overlay",
              "size": 10,
              "solidity": 0.2
             }
            },
            "type": "barpolar"
           }
          ],
          "carpet": [
           {
            "aaxis": {
             "endlinecolor": "#2a3f5f",
             "gridcolor": "white",
             "linecolor": "white",
             "minorgridcolor": "white",
             "startlinecolor": "#2a3f5f"
            },
            "baxis": {
             "endlinecolor": "#2a3f5f",
             "gridcolor": "white",
             "linecolor": "white",
             "minorgridcolor": "white",
             "startlinecolor": "#2a3f5f"
            },
            "type": "carpet"
           }
          ],
          "choropleth": [
           {
            "colorbar": {
             "outlinewidth": 0,
             "ticks": ""
            },
            "type": "choropleth"
           }
          ],
          "contour": [
           {
            "colorbar": {
             "outlinewidth": 0,
             "ticks": ""
            },
            "colorscale": [
             [
              0,
              "#0d0887"
             ],
             [
              0.1111111111111111,
              "#46039f"
             ],
             [
              0.2222222222222222,
              "#7201a8"
             ],
             [
              0.3333333333333333,
              "#9c179e"
             ],
             [
              0.4444444444444444,
              "#bd3786"
             ],
             [
              0.5555555555555556,
              "#d8576b"
             ],
             [
              0.6666666666666666,
              "#ed7953"
             ],
             [
              0.7777777777777778,
              "#fb9f3a"
             ],
             [
              0.8888888888888888,
              "#fdca26"
             ],
             [
              1,
              "#f0f921"
             ]
            ],
            "type": "contour"
           }
          ],
          "contourcarpet": [
           {
            "colorbar": {
             "outlinewidth": 0,
             "ticks": ""
            },
            "type": "contourcarpet"
           }
          ],
          "heatmap": [
           {
            "colorbar": {
             "outlinewidth": 0,
             "ticks": ""
            },
            "colorscale": [
             [
              0,
              "#0d0887"
             ],
             [
              0.1111111111111111,
              "#46039f"
             ],
             [
              0.2222222222222222,
              "#7201a8"
             ],
             [
              0.3333333333333333,
              "#9c179e"
             ],
             [
              0.4444444444444444,
              "#bd3786"
             ],
             [
              0.5555555555555556,
              "#d8576b"
             ],
             [
              0.6666666666666666,
              "#ed7953"
             ],
             [
              0.7777777777777778,
              "#fb9f3a"
             ],
             [
              0.8888888888888888,
              "#fdca26"
             ],
             [
              1,
              "#f0f921"
             ]
            ],
            "type": "heatmap"
           }
          ],
          "heatmapgl": [
           {
            "colorbar": {
             "outlinewidth": 0,
             "ticks": ""
            },
            "colorscale": [
             [
              0,
              "#0d0887"
             ],
             [
              0.1111111111111111,
              "#46039f"
             ],
             [
              0.2222222222222222,
              "#7201a8"
             ],
             [
              0.3333333333333333,
              "#9c179e"
             ],
             [
              0.4444444444444444,
              "#bd3786"
             ],
             [
              0.5555555555555556,
              "#d8576b"
             ],
             [
              0.6666666666666666,
              "#ed7953"
             ],
             [
              0.7777777777777778,
              "#fb9f3a"
             ],
             [
              0.8888888888888888,
              "#fdca26"
             ],
             [
              1,
              "#f0f921"
             ]
            ],
            "type": "heatmapgl"
           }
          ],
          "histogram": [
           {
            "marker": {
             "pattern": {
              "fillmode": "overlay",
              "size": 10,
              "solidity": 0.2
             }
            },
            "type": "histogram"
           }
          ],
          "histogram2d": [
           {
            "colorbar": {
             "outlinewidth": 0,
             "ticks": ""
            },
            "colorscale": [
             [
              0,
              "#0d0887"
             ],
             [
              0.1111111111111111,
              "#46039f"
             ],
             [
              0.2222222222222222,
              "#7201a8"
             ],
             [
              0.3333333333333333,
              "#9c179e"
             ],
             [
              0.4444444444444444,
              "#bd3786"
             ],
             [
              0.5555555555555556,
              "#d8576b"
             ],
             [
              0.6666666666666666,
              "#ed7953"
             ],
             [
              0.7777777777777778,
              "#fb9f3a"
             ],
             [
              0.8888888888888888,
              "#fdca26"
             ],
             [
              1,
              "#f0f921"
             ]
            ],
            "type": "histogram2d"
           }
          ],
          "histogram2dcontour": [
           {
            "colorbar": {
             "outlinewidth": 0,
             "ticks": ""
            },
            "colorscale": [
             [
              0,
              "#0d0887"
             ],
             [
              0.1111111111111111,
              "#46039f"
             ],
             [
              0.2222222222222222,
              "#7201a8"
             ],
             [
              0.3333333333333333,
              "#9c179e"
             ],
             [
              0.4444444444444444,
              "#bd3786"
             ],
             [
              0.5555555555555556,
              "#d8576b"
             ],
             [
              0.6666666666666666,
              "#ed7953"
             ],
             [
              0.7777777777777778,
              "#fb9f3a"
             ],
             [
              0.8888888888888888,
              "#fdca26"
             ],
             [
              1,
              "#f0f921"
             ]
            ],
            "type": "histogram2dcontour"
           }
          ],
          "mesh3d": [
           {
            "colorbar": {
             "outlinewidth": 0,
             "ticks": ""
            },
            "type": "mesh3d"
           }
          ],
          "parcoords": [
           {
            "line": {
             "colorbar": {
              "outlinewidth": 0,
              "ticks": ""
             }
            },
            "type": "parcoords"
           }
          ],
          "pie": [
           {
            "automargin": true,
            "type": "pie"
           }
          ],
          "scatter": [
           {
            "fillpattern": {
             "fillmode": "overlay",
             "size": 10,
             "solidity": 0.2
            },
            "type": "scatter"
           }
          ],
          "scatter3d": [
           {
            "line": {
             "colorbar": {
              "outlinewidth": 0,
              "ticks": ""
             }
            },
            "marker": {
             "colorbar": {
              "outlinewidth": 0,
              "ticks": ""
             }
            },
            "type": "scatter3d"
           }
          ],
          "scattercarpet": [
           {
            "marker": {
             "colorbar": {
              "outlinewidth": 0,
              "ticks": ""
             }
            },
            "type": "scattercarpet"
           }
          ],
          "scattergeo": [
           {
            "marker": {
             "colorbar": {
              "outlinewidth": 0,
              "ticks": ""
             }
            },
            "type": "scattergeo"
           }
          ],
          "scattergl": [
           {
            "marker": {
             "colorbar": {
              "outlinewidth": 0,
              "ticks": ""
             }
            },
            "type": "scattergl"
           }
          ],
          "scattermapbox": [
           {
            "marker": {
             "colorbar": {
              "outlinewidth": 0,
              "ticks": ""
             }
            },
            "type": "scattermapbox"
           }
          ],
          "scatterpolar": [
           {
            "marker": {
             "colorbar": {
              "outlinewidth": 0,
              "ticks": ""
             }
            },
            "type": "scatterpolar"
           }
          ],
          "scatterpolargl": [
           {
            "marker": {
             "colorbar": {
              "outlinewidth": 0,
              "ticks": ""
             }
            },
            "type": "scatterpolargl"
           }
          ],
          "scatterternary": [
           {
            "marker": {
             "colorbar": {
              "outlinewidth": 0,
              "ticks": ""
             }
            },
            "type": "scatterternary"
           }
          ],
          "surface": [
           {
            "colorbar": {
             "outlinewidth": 0,
             "ticks": ""
            },
            "colorscale": [
             [
              0,
              "#0d0887"
             ],
             [
              0.1111111111111111,
              "#46039f"
             ],
             [
              0.2222222222222222,
              "#7201a8"
             ],
             [
              0.3333333333333333,
              "#9c179e"
             ],
             [
              0.4444444444444444,
              "#bd3786"
             ],
             [
              0.5555555555555556,
              "#d8576b"
             ],
             [
              0.6666666666666666,
              "#ed7953"
             ],
             [
              0.7777777777777778,
              "#fb9f3a"
             ],
             [
              0.8888888888888888,
              "#fdca26"
             ],
             [
              1,
              "#f0f921"
             ]
            ],
            "type": "surface"
           }
          ],
          "table": [
           {
            "cells": {
             "fill": {
              "color": "#EBF0F8"
             },
             "line": {
              "color": "white"
             }
            },
            "header": {
             "fill": {
              "color": "#C8D4E3"
             },
             "line": {
              "color": "white"
             }
            },
            "type": "table"
           }
          ]
         },
         "layout": {
          "annotationdefaults": {
           "arrowcolor": "#2a3f5f",
           "arrowhead": 0,
           "arrowwidth": 1
          },
          "autotypenumbers": "strict",
          "coloraxis": {
           "colorbar": {
            "outlinewidth": 0,
            "ticks": ""
           }
          },
          "colorscale": {
           "diverging": [
            [
             0,
             "#8e0152"
            ],
            [
             0.1,
             "#c51b7d"
            ],
            [
             0.2,
             "#de77ae"
            ],
            [
             0.3,
             "#f1b6da"
            ],
            [
             0.4,
             "#fde0ef"
            ],
            [
             0.5,
             "#f7f7f7"
            ],
            [
             0.6,
             "#e6f5d0"
            ],
            [
             0.7,
             "#b8e186"
            ],
            [
             0.8,
             "#7fbc41"
            ],
            [
             0.9,
             "#4d9221"
            ],
            [
             1,
             "#276419"
            ]
           ],
           "sequential": [
            [
             0,
             "#0d0887"
            ],
            [
             0.1111111111111111,
             "#46039f"
            ],
            [
             0.2222222222222222,
             "#7201a8"
            ],
            [
             0.3333333333333333,
             "#9c179e"
            ],
            [
             0.4444444444444444,
             "#bd3786"
            ],
            [
             0.5555555555555556,
             "#d8576b"
            ],
            [
             0.6666666666666666,
             "#ed7953"
            ],
            [
             0.7777777777777778,
             "#fb9f3a"
            ],
            [
             0.8888888888888888,
             "#fdca26"
            ],
            [
             1,
             "#f0f921"
            ]
           ],
           "sequentialminus": [
            [
             0,
             "#0d0887"
            ],
            [
             0.1111111111111111,
             "#46039f"
            ],
            [
             0.2222222222222222,
             "#7201a8"
            ],
            [
             0.3333333333333333,
             "#9c179e"
            ],
            [
             0.4444444444444444,
             "#bd3786"
            ],
            [
             0.5555555555555556,
             "#d8576b"
            ],
            [
             0.6666666666666666,
             "#ed7953"
            ],
            [
             0.7777777777777778,
             "#fb9f3a"
            ],
            [
             0.8888888888888888,
             "#fdca26"
            ],
            [
             1,
             "#f0f921"
            ]
           ]
          },
          "colorway": [
           "#636efa",
           "#EF553B",
           "#00cc96",
           "#ab63fa",
           "#FFA15A",
           "#19d3f3",
           "#FF6692",
           "#B6E880",
           "#FF97FF",
           "#FECB52"
          ],
          "font": {
           "color": "#2a3f5f"
          },
          "geo": {
           "bgcolor": "white",
           "lakecolor": "white",
           "landcolor": "#E5ECF6",
           "showlakes": true,
           "showland": true,
           "subunitcolor": "white"
          },
          "hoverlabel": {
           "align": "left"
          },
          "hovermode": "closest",
          "mapbox": {
           "style": "light"
          },
          "paper_bgcolor": "white",
          "plot_bgcolor": "#E5ECF6",
          "polar": {
           "angularaxis": {
            "gridcolor": "white",
            "linecolor": "white",
            "ticks": ""
           },
           "bgcolor": "#E5ECF6",
           "radialaxis": {
            "gridcolor": "white",
            "linecolor": "white",
            "ticks": ""
           }
          },
          "scene": {
           "xaxis": {
            "backgroundcolor": "#E5ECF6",
            "gridcolor": "white",
            "gridwidth": 2,
            "linecolor": "white",
            "showbackground": true,
            "ticks": "",
            "zerolinecolor": "white"
           },
           "yaxis": {
            "backgroundcolor": "#E5ECF6",
            "gridcolor": "white",
            "gridwidth": 2,
            "linecolor": "white",
            "showbackground": true,
            "ticks": "",
            "zerolinecolor": "white"
           },
           "zaxis": {
            "backgroundcolor": "#E5ECF6",
            "gridcolor": "white",
            "gridwidth": 2,
            "linecolor": "white",
            "showbackground": true,
            "ticks": "",
            "zerolinecolor": "white"
           }
          },
          "shapedefaults": {
           "line": {
            "color": "#2a3f5f"
           }
          },
          "ternary": {
           "aaxis": {
            "gridcolor": "white",
            "linecolor": "white",
            "ticks": ""
           },
           "baxis": {
            "gridcolor": "white",
            "linecolor": "white",
            "ticks": ""
           },
           "bgcolor": "#E5ECF6",
           "caxis": {
            "gridcolor": "white",
            "linecolor": "white",
            "ticks": ""
           }
          },
          "title": {
           "x": 0.05
          },
          "xaxis": {
           "automargin": true,
           "gridcolor": "white",
           "linecolor": "white",
           "ticks": "",
           "title": {
            "standoff": 15
           },
           "zerolinecolor": "white",
           "zerolinewidth": 2
          },
          "yaxis": {
           "automargin": true,
           "gridcolor": "white",
           "linecolor": "white",
           "ticks": "",
           "title": {
            "standoff": 15
           },
           "zerolinecolor": "white",
           "zerolinewidth": 2
          }
         }
        },
        "xaxis": {
         "anchor": "y",
         "domain": [
          0,
          1
         ],
         "title": {
          "text": "x"
         }
        },
        "yaxis": {
         "anchor": "x",
         "domain": [
          0,
          1
         ],
         "title": {
          "text": "value"
         }
        }
       }
      }
     },
     "metadata": {},
     "output_type": "display_data"
    }
   ],
   "source": [
    "px.scatter(pd.DataFrame({'v1' : np.mean(scores, axis=0), 'v2' : np.mean(simple_score, axis=0)}),y=['v1', 'v2'], x = np.arange(30))\n",
    "\n",
    "# plt.plot(scores_w_daemon)\n",
    "\n",
    "# plt.xlabel('Iterations')\n",
    "# plt.ylabel('Gap between best solution and optimal solution')\n",
    "# plt.show()"
   ]
  },
  {
   "cell_type": "code",
   "execution_count": null,
   "metadata": {},
   "outputs": [],
   "source": []
  }
 ],
 "metadata": {
  "kernelspec": {
   "display_name": "Python 3.10.4 ('swarmpy-env')",
   "language": "python",
   "name": "python3"
  },
  "language_info": {
   "codemirror_mode": {
    "name": "ipython",
    "version": 3
   },
   "file_extension": ".py",
   "mimetype": "text/x-python",
   "name": "python",
   "nbconvert_exporter": "python",
   "pygments_lexer": "ipython3",
   "version": "3.10.4"
  },
  "orig_nbformat": 4,
  "vscode": {
   "interpreter": {
    "hash": "de8fa8ea3bb9edb7ed5b1ea3585d4592cef30b33e9fbed2d4a49b72c1728da03"
   }
  }
 },
 "nbformat": 4,
 "nbformat_minor": 2
}
