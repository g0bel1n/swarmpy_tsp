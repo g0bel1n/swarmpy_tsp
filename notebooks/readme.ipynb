{
 "cells": [
  {
   "cell_type": "markdown",
   "metadata": {},
   "source": [
    "<h1 align=center> <b>SwarmPy</b> </h1>\n",
    "\n",
    "<p align=\"center\">\n",
    "<a href=\"https://www.python.org/downloads/release/python-3100/\" \n",
    "target=\"_blank\"><img src=\"https://img.shields.io/badge/python-3.10-blue.svg\" alt=\"Python Version\" /></a>\n",
    "<img src=\"https://img.shields.io/github/license/g0bel1n/TinyAutoML?style=flat-square\" alt=\"Licence MIT\" />\n",
    "</p>\n",
    "\n",
    "---\n",
    "\n",
    "<p align=\"center\">\n",
    "SwarmPy is an experimental library. <br/>\n",
    "It aims at providing a modulable framework to test and experiment on Ant Colony Optimzation (ACO) algorithms on Travelling Salesman Problem<br/>\n",
    "contact : lucas.saban[at]ensae.fr\n",
    "</p>\n",
    "\n",
    "\n",
    "---"
   ]
  },
  {
   "cell_type": "markdown",
   "metadata": {},
   "source": [
    "## ⚡️ Quick start \n",
    "\n",
    "First let's import the librairies we will use"
   ]
  },
  {
   "cell_type": "code",
   "execution_count": 1,
   "metadata": {},
   "outputs": [],
   "source": [
    "import os \n",
    "import numpy as np\n",
    "import matplotlib.pyplot as plt\n",
    "os.chdir('..')\n",
    "\n",
    "from swarmpy_tsp import *\n"
   ]
  },
  {
   "cell_type": "markdown",
   "metadata": {},
   "source": [
    "The `ant_coder` function can load the TSP test sets of the test_set folder, namely :\n",
    "- berlin52 \n",
    "- ch130\n",
    "- Any test set you wish, as long you add them to folder following the same format.\n",
    "\n",
    "`G` is the graph representation of the problem. Its a dictionnary containing a uninitialized pheromone matrix, a heuristics matrix and a cost matrix"
   ]
  },
  {
   "cell_type": "code",
   "execution_count": 2,
   "metadata": {},
   "outputs": [],
   "source": [
    "G, opt_score = Antcoder('test_set/berlin52')"
   ]
  },
  {
   "cell_type": "markdown",
   "metadata": {},
   "source": [
    "Ant colony optmization algorithms can be built in the same fashion as a Pipeline object from `scikit-learn`. You only need to put the blocks in the right order."
   ]
  },
  {
   "cell_type": "markdown",
   "metadata": {},
   "source": [
    "> Careful ! The G dictionnary is modified inplace during computation. If you want to try different run with the same datapoints, you shall use `deepcopy` from the `copy` built-in library."
   ]
  },
  {
   "cell_type": "markdown",
   "metadata": {},
   "source": [
    "Below, you can see an example of an ACO Pipeline"
   ]
  },
  {
   "cell_type": "code",
   "execution_count": 3,
   "metadata": {},
   "outputs": [],
   "source": [
    "aco_pipeline = ACO_Pipeline(\n",
    "    [\n",
    "        (\"Planner\", Planner({\"alpha\": 1.0, \"beta\": 2.0})),\n",
    "        (\"Sol\", SolutionConstructor()),\n",
    "        (\"DA\", DaemonActions()),\n",
    "        (\"Updater\", BestTourPheromonesUpdater()),\n",
    "\n",
    "    ], \n",
    "    iter_max=60\n",
    ")"
   ]
  },
  {
   "cell_type": "markdown",
   "metadata": {},
   "source": [
    "An `ACO_Pipeline` is composed by objects inhering from the **semi abstract** class `ACO_Step`. Those steps are more or less the main composants of any ACO Algorithms and are independently built so that one can use them in other situations or can easily build new blocks.\n",
    "Let's dive in !\n",
    "\n",
    "## The `ACO_Steps`\n",
    "\n",
    "### `Planner`\n",
    "First of all, there is the `Planner` step. In very basic use cases, it is not really important and only serves as the place to define your ants parameters. In more advanced cases, such as **iteration-dependent ants parameters**, that's where the magic happen.\n",
    "\n",
    "The `Planner` object have one parameter which is a `dict` of those parameters :\n",
    "\n",
    "-   `alpha`: coefficient associated to the **pheromone trails**\n",
    "-   `beta`: coefficient associated to the **heuristic information**\n",
    "-   `q`: Corresponds to the **level of exploitation** in Ant Colony System. When not precised, it is set to 0 which is equivalent to Ant System\n",
    "-   `mask`: Corresponds to a **mask applied on the graph**. It is useful when you want to reduce your problem to a subset of cities. If not precized, a generic all covering mask is set.\n",
    "\n",
    "*If you are not familliar with those notations please refer to appropriate ACO litterature (Dorigo, Stützle, ...)*\n",
    "\n",
    "The `RandomizedPlanner` object, which inheritates from the `Planner`, **introduces random sampling** of ants parameters. It have two more parameters, `alpha_bounds` and `beta_bounds` which are the bounds of the uniform distribution from which each ant parameters is drawn. \n",
    "\n",
    "> To add *iteration-dependant ant parameters*, I'd recommend to inheritate from `Planner` ant induce mutations in the `run` method which takes the iteration number as argument.\n",
    "\n",
    "An example of instanciation : \n",
    "\n",
    "> To keep a parameter constant with `RandomizedPlanner`, setting low_bound = high_bound does the job"
   ]
  },
  {
   "cell_type": "code",
   "execution_count": 4,
   "metadata": {},
   "outputs": [],
   "source": [
    "planner_step = RandomizedPlanner(alpha_bounds=[1.0, 1.0], beta_bounds=[1., 6.], ant_params={'q':0.8})"
   ]
  },
  {
   "cell_type": "markdown",
   "metadata": {},
   "source": [
    "### The `SolutionConstructor`\n",
    "\n",
    "The `SolutionConstructor` step is at the core of ACO. It is where ants are actually **going through the graph** to build feasible solutions. No parameters are required. \n",
    "For now, ants are running concurrently, using the `thread` built-in library of Python. Parallel computation should arrive soon.\n",
    "It should be remarked that solution are sorted by descending quality.\n",
    "An example of instanciation : "
   ]
  },
  {
   "cell_type": "code",
   "execution_count": 5,
   "metadata": {},
   "outputs": [],
   "source": [
    "construction_step = SolutionConstructor()"
   ]
  },
  {
   "cell_type": "markdown",
   "metadata": {},
   "source": [
    "### `DaemonActions`\n",
    "\n",
    "If the first steps are kind of necessary, this one can totally be exempted from the pipeline. It implements a **2-opt local search** on the solutions built during the construction step.\n",
    "It as one parameter, `k`, that is the number of best solutions that shall go through local search. \n",
    "\n",
    "An example of instanciation : "
   ]
  },
  {
   "cell_type": "code",
   "execution_count": 6,
   "metadata": {},
   "outputs": [],
   "source": [
    "daemon_step = DaemonActions(k=2)"
   ]
  },
  {
   "cell_type": "markdown",
   "metadata": {},
   "source": [
    "### `PheromonesUpdaters`\n",
    "\n",
    "It's the final step of an ACO algorithm iteration. It **evaporates** pheromones and **reinforces** pheromone trails according the solutions found. \n",
    "General parameters are : \n",
    "-   `rho` : the evaporation rate (can be set to 0 for no evaporation)\n",
    "-   `Q` : The normalization parameter of the pheromone reinforcement update (Q/cost)\n",
    "-   `bounds` : if precised, it implements MMAS policy of bounding pheromone trails\n",
    "\n",
    "Then there is **3 Updaters** that inherits from the abstract **base Updater** :\n",
    "- `ProportionnalPheromonesUpdater` : basic updater, reinforcement in Q/cost for all solutions\n",
    "- `BestSoFarPheromonesUpdater` : Reinforces the `k` best paths found so far\n",
    "- `BestTourPheromonesUpdater`: Reinforces the `k` best paths found in the current lap\n",
    "\n",
    "Those steps can totally be combined or made iteration-dependant by inheritance.\n",
    "\n",
    "An example of instanciation : "
   ]
  },
  {
   "cell_type": "code",
   "execution_count": 7,
   "metadata": {},
   "outputs": [],
   "source": [
    "ph_updater = BestTourPheromonesUpdater(k=2, bounds=[0.1, 1])"
   ]
  },
  {
   "cell_type": "markdown",
   "metadata": {},
   "source": [
    "___\n",
    "\n",
    "## Now you can play with it !\n",
    "\n",
    "The ACO_Pipeline object return the list of all solutions built during computation"
   ]
  },
  {
   "cell_type": "code",
   "execution_count": 8,
   "metadata": {},
   "outputs": [
    {
     "name": "stderr",
     "output_type": "stream",
     "text": [
      "SwarmPy | Score : 7859.448968094198: 100%|██████████| 60/60 [00:13<00:00,  4.41it/s]\n"
     ]
    },
    {
     "data": {
      "image/png": "[encoded data removed]",
      "text/plain": [
       "<Figure size 432x288 with 1 Axes>"
      ]
     },
     "metadata": {
      "needs_background": "light"
     },
     "output_type": "display_data"
    }
   ],
   "source": [
    "solutions_w_daemon = aco_pipeline.run(G=G)\n",
    "scores_w_daemon = np.array([el[1] for el in solutions_w_daemon['solutions']]) - opt_score\n",
    "\n",
    "plt.plot(scores_w_daemon)\n",
    "plt.xlabel('Iterations')\n",
    "plt.ylabel('Gap between best solution and optimal solution')\n",
    "plt.show()"
   ]
  },
  {
   "cell_type": "markdown",
   "metadata": {},
   "source": [
    "**For an advanced example of combining Pipelines, please refer to the advanced_swarmpy notebook**"
   ]
  }
 ],
 "metadata": {
  "kernelspec": {
   "display_name": "Python 3.10.4 ('swarmpy-env')",
   "language": "python",
   "name": "python3"
  },
  "language_info": {
   "codemirror_mode": {
    "name": "ipython",
    "version": 3
   },
   "file_extension": ".py",
   "mimetype": "text/x-python",
   "name": "python",
   "nbconvert_exporter": "python",
   "pygments_lexer": "ipython3",
   "version": "3.10.4"
  },
  "orig_nbformat": 4,
  "vscode": {
   "interpreter": {
    "hash": "de8fa8ea3bb9edb7ed5b1ea3585d4592cef30b33e9fbed2d4a49b72c1728da03"
   }
  }
 },
 "nbformat": 4,
 "nbformat_minor": 2
}
